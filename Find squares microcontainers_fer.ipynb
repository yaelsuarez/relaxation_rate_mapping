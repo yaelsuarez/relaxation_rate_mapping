{
 "cells": [
  {
   "cell_type": "code",
   "execution_count": 1,
   "metadata": {},
   "outputs": [],
   "source": [
    "import os\n",
    "import pydicom\n",
    "import matplotlib.pyplot as plt\n",
    "import pandas as pd\n",
    "import shutil\n",
    "import numpy as np\n",
    "from scipy.optimize import curve_fit\n",
    "from tqdm import tqdm"
   ]
  },
  {
   "cell_type": "code",
   "execution_count": 2,
   "metadata": {},
   "outputs": [],
   "source": [
    "import SimpleITK as sitk\n",
    "import pyvista as pv"
   ]
  },
  {
   "cell_type": "code",
   "execution_count": 21,
   "metadata": {},
   "outputs": [
    {
     "name": "stdout",
     "output_type": "stream",
     "text": [
      "/Users/yaesu539/Library/CloudStorage/OneDrive-Uppsalauniversitet/PhD/DATA/MRI/20230425_FakeIntestines_DLS/Fake_Intestine_A1_P1/DICOM/T2/8.0\n",
      "/Users/yaesu539/Library/CloudStorage/OneDrive-Uppsalauniversitet/PhD/DATA/MRI/20230425_FakeIntestines_DLS/Fake_Intestine_A1_P1/DICOM/T2/16.0\n",
      "/Users/yaesu539/Library/CloudStorage/OneDrive-Uppsalauniversitet/PhD/DATA/MRI/20230425_FakeIntestines_DLS/Fake_Intestine_A1_P1/DICOM/T2/24.0\n",
      "/Users/yaesu539/Library/CloudStorage/OneDrive-Uppsalauniversitet/PhD/DATA/MRI/20230425_FakeIntestines_DLS/Fake_Intestine_A1_P1/DICOM/T2/32.0\n",
      "/Users/yaesu539/Library/CloudStorage/OneDrive-Uppsalauniversitet/PhD/DATA/MRI/20230425_FakeIntestines_DLS/Fake_Intestine_A1_P1/DICOM/T2/40.0\n",
      "/Users/yaesu539/Library/CloudStorage/OneDrive-Uppsalauniversitet/PhD/DATA/MRI/20230425_FakeIntestines_DLS/Fake_Intestine_A1_P1/DICOM/T2/48.0\n",
      "/Users/yaesu539/Library/CloudStorage/OneDrive-Uppsalauniversitet/PhD/DATA/MRI/20230425_FakeIntestines_DLS/Fake_Intestine_A1_P1/DICOM/T2/56.0\n",
      "/Users/yaesu539/Library/CloudStorage/OneDrive-Uppsalauniversitet/PhD/DATA/MRI/20230425_FakeIntestines_DLS/Fake_Intestine_A1_P1/DICOM/T2/64.0\n",
      "/Users/yaesu539/Library/CloudStorage/OneDrive-Uppsalauniversitet/PhD/DATA/MRI/20230425_FakeIntestines_DLS/Fake_Intestine_A1_P1/DICOM/T2/72.0\n",
      "/Users/yaesu539/Library/CloudStorage/OneDrive-Uppsalauniversitet/PhD/DATA/MRI/20230425_FakeIntestines_DLS/Fake_Intestine_A1_P1/DICOM/T2/80.0\n",
      "/Users/yaesu539/Library/CloudStorage/OneDrive-Uppsalauniversitet/PhD/DATA/MRI/20230425_FakeIntestines_DLS/Fake_Intestine_A1_P1/DICOM/T2/88.0\n",
      "/Users/yaesu539/Library/CloudStorage/OneDrive-Uppsalauniversitet/PhD/DATA/MRI/20230425_FakeIntestines_DLS/Fake_Intestine_A1_P1/DICOM/T2/96.0\n",
      "/Users/yaesu539/Library/CloudStorage/OneDrive-Uppsalauniversitet/PhD/DATA/MRI/20230425_FakeIntestines_DLS/Fake_Intestine_A1_P1/DICOM/T2/104.0\n",
      "/Users/yaesu539/Library/CloudStorage/OneDrive-Uppsalauniversitet/PhD/DATA/MRI/20230425_FakeIntestines_DLS/Fake_Intestine_A1_P1/DICOM/T2/112.0\n",
      "/Users/yaesu539/Library/CloudStorage/OneDrive-Uppsalauniversitet/PhD/DATA/MRI/20230425_FakeIntestines_DLS/Fake_Intestine_A1_P1/DICOM/T2/120.0\n",
      "/Users/yaesu539/Library/CloudStorage/OneDrive-Uppsalauniversitet/PhD/DATA/MRI/20230425_FakeIntestines_DLS/Fake_Intestine_A1_P1/DICOM/T2/128.0\n",
      "/Users/yaesu539/Library/CloudStorage/OneDrive-Uppsalauniversitet/PhD/DATA/MRI/20230425_FakeIntestines_DLS/Fake_Intestine_A1_P1/DICOM/T2/136.0\n",
      "/Users/yaesu539/Library/CloudStorage/OneDrive-Uppsalauniversitet/PhD/DATA/MRI/20230425_FakeIntestines_DLS/Fake_Intestine_A1_P1/DICOM/T2/144.0\n",
      "/Users/yaesu539/Library/CloudStorage/OneDrive-Uppsalauniversitet/PhD/DATA/MRI/20230425_FakeIntestines_DLS/Fake_Intestine_A1_P1/DICOM/T2/152.0\n",
      "/Users/yaesu539/Library/CloudStorage/OneDrive-Uppsalauniversitet/PhD/DATA/MRI/20230425_FakeIntestines_DLS/Fake_Intestine_A1_P1/DICOM/T2/160.0\n",
      "/Users/yaesu539/Library/CloudStorage/OneDrive-Uppsalauniversitet/PhD/DATA/MRI/20230425_FakeIntestines_DLS/Fake_Intestine_A1_P1/DICOM/T2/168.0\n",
      "/Users/yaesu539/Library/CloudStorage/OneDrive-Uppsalauniversitet/PhD/DATA/MRI/20230425_FakeIntestines_DLS/Fake_Intestine_A1_P1/DICOM/T2/176.0\n",
      "/Users/yaesu539/Library/CloudStorage/OneDrive-Uppsalauniversitet/PhD/DATA/MRI/20230425_FakeIntestines_DLS/Fake_Intestine_A1_P1/DICOM/T2/184.0\n",
      "/Users/yaesu539/Library/CloudStorage/OneDrive-Uppsalauniversitet/PhD/DATA/MRI/20230425_FakeIntestines_DLS/Fake_Intestine_A1_P1/DICOM/T2/192.0\n",
      "/Users/yaesu539/Library/CloudStorage/OneDrive-Uppsalauniversitet/PhD/DATA/MRI/20230425_FakeIntestines_DLS/Fake_Intestine_A1_P1/DICOM/T2/200.0\n",
      "/Users/yaesu539/Library/CloudStorage/OneDrive-Uppsalauniversitet/PhD/DATA/MRI/20230425_FakeIntestines_DLS/Fake_Intestine_A1_P1/DICOM/T2/208.0\n",
      "[8.0, 16.0, 24.0, 32.0, 40.0, 48.0, 56.0, 64.0, 72.0, 80.0, 88.0, 96.0, 104.0, 112.0, 120.0, 128.0, 136.0, 144.0, 152.0, 160.0, 168.0, 176.0, 184.0, 192.0, 200.0, 208.0]\n",
      "[0.008, 0.016, 0.024, 0.032, 0.04, 0.048, 0.056, 0.064, 0.072, 0.08, 0.088, 0.096, 0.104, 0.112, 0.12, 0.128, 0.136, 0.144, 0.152, 0.16, 0.168, 0.176, 0.184, 0.192, 0.2, 0.208]\n"
     ]
    }
   ],
   "source": [
    "from typing import Tuple, List\n",
    "root = \"/Users/yaesu539/Library/CloudStorage/OneDrive-Uppsalauniversitet/PhD/DATA/MRI/20230425_FakeIntestines_DLS/Fake_Intestine_A1_P1/DICOM/T2\"\n",
    "\n",
    "\n",
    "def read_supervolume(root) -> Tuple[np.ndarray, List[float]]:\n",
    "    \"\"\"Read a folder with one folder per echo time. Assumes that the folder names are the echo times\n",
    "\n",
    "    Args:\n",
    "        root (str): root dir where all the echo times live\n",
    "\n",
    "    Returns:\n",
    "        Tuple[np.ndarray, List[float]]: \n",
    "            Volume with shape (E, X, Y, Z) where E is the echo time.\n",
    "            List with the sorted echo times (names of the folders).\n",
    "    \"\"\"\n",
    "    volumes = []\n",
    "    echo_times = []\n",
    "    max_shape = None\n",
    "    for dir in sorted([x for x in os.listdir(root) if os.path.isdir(os.path.join(root, x))], key=lambda x: float(x)):\n",
    "        echo_times.append(float(dir))\n",
    "        dir = os.path.join(root, dir)\n",
    "        print(dir)\n",
    "        reader = sitk.ImageSeriesReader()\n",
    "        dicom_names = reader.GetGDCMSeriesFileNames(dir)\n",
    "        reader.SetFileNames(dicom_names)\n",
    "        image = reader.Execute()\n",
    "        volume = sitk.GetArrayFromImage(image)\n",
    "        # Update max_shape if necessary\n",
    "        if max_shape is None:\n",
    "            max_shape = volume.shape\n",
    "        else:\n",
    "            max_shape = np.maximum(max_shape, volume.shape)\n",
    "        \n",
    "        volumes.append(volume)\n",
    "    \n",
    "    # Pad each volume with zeros to match the maximum shape\n",
    "    padded_volumes = []\n",
    "    for volume in volumes:\n",
    "        pad_width = [(0, max_shape[i] - volume.shape[i]) for i in range(3)]\n",
    "        padded_volume = np.pad(volume, pad_width=pad_width, mode='constant', constant_values=0)\n",
    "        padded_volumes.append(padded_volume)\n",
    "    \n",
    "    volumes = np.stack(padded_volumes)\n",
    "    #     volumes.append(sitk.GetArrayFromImage(image))\n",
    "    # volumes = np.stack(volumes)\n",
    "    echo_times = [et/1000 for et in echo_times]\n",
    "    return volumes, echo_times\n",
    "\n",
    "super_volume, echo_times = read_supervolume(root)"
   ]
  },
  {
   "cell_type": "code",
   "execution_count": 26,
   "metadata": {},
   "outputs": [
    {
     "name": "stderr",
     "output_type": "stream",
     "text": [
      "fitting params: 100%|██████████| 1505100/1505100 [04:42<00:00, 5322.60voxel/s]\n"
     ]
    }
   ],
   "source": [
    "def fit_r(echo_time, mean_intensity):\n",
    "    # plt.scatter(echo_time, mean_intensity)\n",
    "    # plt.show()\n",
    "    def func(x, I0, rs):\n",
    "        return I0 * np.exp(-(rs)*x)\n",
    "    popt, pcov = curve_fit(func, echo_time, mean_intensity, )\n",
    "    return popt\n",
    "\n",
    "def fit_params_over_echotime(super_volume):\n",
    "    \"\"\"For each voxel, fit the params over the echo_time\n",
    "\n",
    "    Args:\n",
    "        super_volume (ndarray): 4D ndarray with shape (E, X, Y, Z)\n",
    "\n",
    "    Returns:\n",
    "        ndarray: The `rs` parameter fitter to each voxel with shape (X, Y, Z)\n",
    "    \"\"\"\n",
    "    s = super_volume.shape\n",
    "    fitted_volume = np.zeros([s[1], s[2], s[3]])\n",
    "    pbar = tqdm(desc='fitting params', total=s[1]*s[2]*s[3], mininterval=0.5, unit=\"voxel\")\n",
    "    for x in range(s[1]):\n",
    "        for y in range(s[2]):\n",
    "            for z in range(s[3]):\n",
    "                try:\n",
    "                    I0, rs = fit_r(echo_times, super_volume[:, x, y, z])\n",
    "                    fitted_volume[x, y, z] = rs\n",
    "                    # input()\n",
    "                except RuntimeError as e:\n",
    "                    print(x, y, z, e)\n",
    "                    fitted_volume[x, y, z] = 0\n",
    "                pbar.update()\n",
    "    return fitted_volume\n",
    "\n",
    "# select a smaller volume to make the fitting faster\n",
    "s = super_volume.shape\n",
    "xlim = [1*s[1]//10, 10*s[1]//10]\n",
    "ylim = [4*s[2]//20, 9*s[2]//20]\n",
    "zlim = [1*s[3]//10, 10*s[3]//10]\n",
    "super_volume_crop = super_volume[:, xlim[0]:xlim[1], ylim[0]:ylim[1], zlim[0]:zlim[1]]\n",
    "#super_volume_crop = super_volume[:, xlim[0]:xlim[1], ylim[0]:ylim[1], zlim[0]:zlim[1]]\n",
    "#super_volume_crop = super_volume\n",
    "# fit the params\n",
    "fitted_volume = fit_params_over_echotime(super_volume_crop)\n"
   ]
  },
  {
   "cell_type": "code",
   "execution_count": 27,
   "metadata": {},
   "outputs": [
    {
     "name": "stdout",
     "output_type": "stream",
     "text": [
      "(26, 192, 300, 128)\n"
     ]
    }
   ],
   "source": [
    "print(super_volume.shape)"
   ]
  },
  {
   "cell_type": "code",
   "execution_count": 28,
   "metadata": {},
   "outputs": [],
   "source": [
    "# save volume for fast loading\n",
    "save_path = os.path.join(root,\"fitted_volume_4-4p5_ms.npz\")\n",
    "np.savez(save_path, rs=fitted_volume)"
   ]
  },
  {
   "cell_type": "code",
   "execution_count": 29,
   "metadata": {},
   "outputs": [],
   "source": [
    "# load volume\n",
    "f = np.load(save_path)\n",
    "fitted_volume = f['rs']"
   ]
  },
  {
   "cell_type": "markdown",
   "metadata": {},
   "source": [
    "Run plot_mri_fer.py"
   ]
  },
  {
   "cell_type": "markdown",
   "metadata": {},
   "source": []
  }
 ],
 "metadata": {
  "kernelspec": {
   "display_name": "uu",
   "language": "python",
   "name": "python3"
  },
  "language_info": {
   "codemirror_mode": {
    "name": "ipython",
    "version": 3
   },
   "file_extension": ".py",
   "mimetype": "text/x-python",
   "name": "python",
   "nbconvert_exporter": "python",
   "pygments_lexer": "ipython3",
   "version": "3.11.7"
  },
  "orig_nbformat": 4
 },
 "nbformat": 4,
 "nbformat_minor": 2
}
